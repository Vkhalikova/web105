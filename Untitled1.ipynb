{
  "nbformat": 4,
  "nbformat_minor": 0,
  "metadata": {
    "colab": {
      "provenance": [],
      "authorship_tag": "ABX9TyM48JC+SUNamD3dvdkIaRQM",
      "include_colab_link": true
    },
    "kernelspec": {
      "name": "python3",
      "display_name": "Python 3"
    },
    "language_info": {
      "name": "python"
    }
  },
  "cells": [
    {
      "cell_type": "markdown",
      "metadata": {
        "id": "view-in-github",
        "colab_type": "text"
      },
      "source": [
        "<a href=\"https://colab.research.google.com/github/Vkhalikova/web105/blob/main/Untitled1.ipynb\" target=\"_parent\"><img src=\"https://colab.research.google.com/assets/colab-badge.svg\" alt=\"Open In Colab\"/></a>"
      ]
    },
    {
      "cell_type": "code",
      "execution_count": null,
      "metadata": {
        "colab": {
          "base_uri": "https://localhost:8080/"
        },
        "id": "ANVFYJe5oWwo",
        "outputId": "ac27e158-4c24-408b-a479-f7212a14e58e"
      },
      "outputs": [
        {
          "output_type": "stream",
          "name": "stdout",
          "text": [
            "6.32\n"
          ]
        }
      ],
      "source": [
        " x = 6.3245\n",
        " print(round(x, 2))"
      ]
    },
    {
      "cell_type": "code",
      "source": [
        "a=7\n",
        "b=4\n",
        "f=(a+b)\n",
        "print(f/2)\n",
        "print(int(f/2))"
      ],
      "metadata": {
        "colab": {
          "base_uri": "https://localhost:8080/"
        },
        "id": "P_NpYDl_pDrV",
        "outputId": "c1a549c0-edaa-4cd6-e997-422234c48657"
      },
      "execution_count": 26,
      "outputs": [
        {
          "output_type": "stream",
          "name": "stdout",
          "text": [
            "5.5\n",
            "5\n"
          ]
        }
      ]
    }
  ]
}